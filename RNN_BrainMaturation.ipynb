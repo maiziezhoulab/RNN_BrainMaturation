{
 "cells": [
  {
   "cell_type": "markdown",
   "metadata": {},
   "source": [
    "To use this notebook in <a href=\"https://www.tutorialspoint.com/google_colab/google_colab_executing_external_python_files.htm\">Google Colab</a>, please download the main folder from <a href=\"https://github.com/maiziezhoulab/RNN_BrainMaturation/archive/master.zip\">here</a> and start from [Set up your Colab](#Set-up-your-Colab)\n",
    "\n",
    "Or else, start from [Train&Analysis](#Train&Analysis)\n",
    "\n",
    "# Set up your Colab\n",
    "## Install Tensorflow"
   ]
  },
  {
   "cell_type": "code",
   "execution_count": null,
   "metadata": {},
   "outputs": [],
   "source": [
    "!/opt/bin/nvidia-smi\n",
    "!pip install tensorflow-gpu==1.15.0"
   ]
  },
  {
   "cell_type": "markdown",
   "metadata": {},
   "source": [
    "## Mount your Drive"
   ]
  },
  {
   "cell_type": "code",
   "execution_count": null,
   "metadata": {},
   "outputs": [],
   "source": [
    "from google.colab import drive\n",
    "drive.mount('/content/drive')\n",
    "!pip install -U -q PyDrive\n",
    "!apt install openjdk-8-jdk-headless -qq\n",
    "import os\n",
    "os.environ[\"JAVA_HOME\"] = \"/usr/lib/jvm/java-8-openjdk-amd64\""
   ]
  },
  {
   "cell_type": "code",
   "execution_count": null,
   "metadata": {},
   "outputs": [],
   "source": [
    "#from google.colab import drive\n",
    "#drive.mount('/content/drive',force_remount=True)"
   ]
  },
  {
   "cell_type": "markdown",
   "metadata": {},
   "source": [
    "## Authenticate and create the PyDrive client"
   ]
  },
  {
   "cell_type": "code",
   "execution_count": null,
   "metadata": {
    "colab": {},
    "colab_type": "code",
    "id": "uJZiH7wPFefn"
   },
   "outputs": [],
   "source": [
    "from pydrive.auth import GoogleAuth\n",
    "from pydrive.drive import GoogleDrive\n",
    "from google.colab import auth\n",
    "from oauth2client.client import GoogleCredentials\n",
    "\n",
    "auth.authenticate_user()\n",
    "gauth = GoogleAuth()\n",
    "gauth.credentials = GoogleCredentials.get_application_default()\n",
    "drive = GoogleDrive(gauth)"
   ]
  },
  {
   "cell_type": "markdown",
   "metadata": {},
   "source": [
    "## Change dir to the script"
   ]
  },
  {
   "cell_type": "code",
   "execution_count": null,
   "metadata": {
    "colab": {},
    "colab_type": "code",
    "id": "8D6xu65rGCt9"
   },
   "outputs": [],
   "source": [
    "path = \"/path/to/your/RNN_BrainMaturation\"#example:\"/content/drive/My Drive/RNN_BrainMaturation-master\"\n",
    "os.chdir(path)\n",
    "!pwd"
   ]
  },
  {
   "cell_type": "markdown",
   "metadata": {},
   "source": [
    "# Train&Analysis\n",
    "## GPU set up"
   ]
  },
  {
   "cell_type": "code",
   "execution_count": null,
   "metadata": {},
   "outputs": [],
   "source": [
    "import os\n",
    "os.environ[\"CUDA_VISIBLE_DEVICES\"] = \"0\""
   ]
  },
  {
   "cell_type": "markdown",
   "metadata": {},
   "source": [
    "## Train\n",
    "### Set parameters"
   ]
  },
  {
   "cell_type": "code",
   "execution_count": null,
   "metadata": {},
   "outputs": [],
   "source": [
    "model_dir = 'data/6tasks'\n",
    "\n",
    "#Hyper parameters\n",
    "hp = {'activation': 'softplus',\n",
    "    'n_rnn': 256,\n",
    "    'learning_rate': 0.001,\n",
    "    'mix_rule': True,\n",
    "    'l1_h': 0.,\n",
    "    'use_separate_input': False,\n",
    "    'mature_target_perf': 0.95,\n",
    "    'mid_target_perf': 0.65,\n",
    "    'early_target_perf': 0.35,}\n",
    "\n",
    "# rule set and rule trains\n",
    "ruleset='all_new'\n",
    "rule_trains=['overlap','zero_gap','gap','odr','odrd','gap500',]"
   ]
  },
  {
   "cell_type": "markdown",
   "metadata": {},
   "source": [
    "### Start Training"
   ]
  },
  {
   "cell_type": "code",
   "execution_count": null,
   "metadata": {},
   "outputs": [],
   "source": [
    "from training.train import train\n",
    "\n",
    "train(model_dir,\n",
    "      seed=0,\n",
    "      hp=hp,\n",
    "      ruleset=ruleset,\n",
    "      rule_trains=rule_trains,\n",
    "      display_step=20)"
   ]
  },
  {
   "cell_type": "markdown",
   "metadata": {},
   "source": [
    "## Analysis\n",
    "### Set parameters"
   ]
  },
  {
   "cell_type": "code",
   "execution_count": null,
   "metadata": {},
   "outputs": [],
   "source": [
    "model_dir = 'data/6tasks'\n",
    "trial_list_odr_odrd = range(520960,628480+1,1280)\n",
    "trial_list_antisacc = range(0,102400+1,1280)"
   ]
  },
  {
   "cell_type": "markdown",
   "metadata": {},
   "source": [
    "### Load Hyper parameter and training log"
   ]
  },
  {
   "cell_type": "code",
   "execution_count": null,
   "metadata": {},
   "outputs": [],
   "source": [
    "from utils import tools\n",
    "hp = tools.load_hp(model_dir)\n",
    "log = tools.load_log(model_dir)\n",
    "trial_list_all = range(log['trials'][0],log['trials'][-1]+1,1280)"
   ]
  },
  {
   "cell_type": "markdown",
   "metadata": {},
   "source": [
    "### Print basic information"
   ]
  },
  {
   "cell_type": "code",
   "execution_count": null,
   "metadata": {},
   "outputs": [],
   "source": [
    "from analysis.PSTH_print_basic_info import print_basic_info\n",
    "print_basic_info(hp,log,model_dir,smooth_growth=True,smooth_window=5)"
   ]
  },
  {
   "cell_type": "markdown",
   "metadata": {},
   "source": [
    "### Compute H"
   ]
  },
  {
   "cell_type": "code",
   "execution_count": null,
   "metadata": {},
   "outputs": [],
   "source": [
    "from analysis.PSTH_compute_H import gen_task_info\n",
    "gen_task_info(hp,log,model_dir,['odr','odrd','overlap','zero_gap','gap']) #only generate task_info.pkl"
   ]
  },
  {
   "cell_type": "code",
   "execution_count": null,
   "metadata": {},
   "outputs": [],
   "source": [
    "recompute = False\n",
    "from analysis.PSTH_compute_H import compute_H\n",
    "compute_H(hp,log,model_dir,rules=['odr','odrd'],trial_list=trial_list_odr_odrd,recompute=recompute,)\n",
    "compute_H(hp,log,model_dir,rules=['overlap','zero_gap','gap'],trial_list=trial_list_antisacc,recompute=recompute,)"
   ]
  },
  {
   "cell_type": "markdown",
   "metadata": {},
   "source": [
    "### Generate neuron information"
   ]
  },
  {
   "cell_type": "code",
   "execution_count": null,
   "metadata": {},
   "outputs": [],
   "source": [
    "recompute = False\n",
    "from analysis.PSTH_gen_neuron_info import generate_neuron_info\n",
    "generate_neuron_info(hp,model_dir,epochs=['stim1','delay1'],trial_list=trial_list_odr_odrd,rules=['odr','odrd'],recompute=recompute)\n",
    "generate_neuron_info(hp,model_dir,epochs=['delay2'],trial_list=trial_list_odr_odrd,rules=['odrd'],recompute=recompute)\n",
    "generate_neuron_info(hp,model_dir,epochs=['stim1'],trial_list=trial_list_antisacc,rules=['overlap','zero_gap','gap'],recompute=recompute)"
   ]
  },
  {
   "cell_type": "markdown",
   "metadata": {},
   "source": [
    "### Plot tuning curve"
   ]
  },
  {
   "cell_type": "code",
   "execution_count": null,
   "metadata": {},
   "outputs": [],
   "source": [
    "from analysis.PSTH_tunning_analysis import tunning_analysis\n",
    "tunning_analysis(hp,log,model_dir,'odr','stim1',trial_list_odr_odrd)\n",
    "tunning_analysis(hp,log,model_dir,'odr','delay1',trial_list_odr_odrd)\n",
    "tunning_analysis(hp,log,model_dir,'odrd','stim1',trial_list_odr_odrd)\n",
    "tunning_analysis(hp,log,model_dir,'odrd','delay2',trial_list_odr_odrd)\n",
    "tunning_analysis(hp,log,model_dir,'gap','stim1',trial_list_antisacc)\n",
    "tunning_analysis(hp,log,model_dir,'overlap','stim1',trial_list_antisacc)\n",
    "tunning_analysis(hp,log,model_dir,'zero_gap','stim1',trial_list_antisacc)"
   ]
  },
  {
   "cell_type": "markdown",
   "metadata": {},
   "source": [
    "### Plot PSTH"
   ]
  },
  {
   "cell_type": "code",
   "execution_count": null,
   "metadata": {},
   "outputs": [],
   "source": [
    "from analysis.PSTH_plot_PSTH import plot_PSTH\n",
    "plot_PSTH(hp, log, model_dir, 'odr', 'stim1', trial_list_odr_odrd, plot_oppo_dir = False)\n",
    "plot_PSTH(hp, log, model_dir, 'odr', 'delay1', trial_list_odr_odrd, plot_oppo_dir = False)\n",
    "plot_PSTH(hp, log, model_dir, 'odrd', 'stim1', trial_list_odr_odrd, plot_oppo_dir = True)\n",
    "plot_PSTH(hp, log, model_dir, 'odrd', 'delay1', trial_list_odr_odrd, plot_oppo_dir = True)\n",
    "plot_PSTH(hp, log, model_dir, 'odrd', 'delay2', trial_list_odr_odrd, plot_oppo_dir = True)\n",
    "\n",
    "plot_PSTH(hp, log, model_dir, 'gap', 'stim1', trial_list_antisacc, plot_oppo_dir = False)\n",
    "plot_PSTH(hp, log, model_dir, 'zero_gap', 'stim1', trial_list_antisacc, plot_oppo_dir = False)\n",
    "plot_PSTH(hp, log, model_dir, 'overlap', 'stim1', trial_list_antisacc, plot_oppo_dir = False)"
   ]
  },
  {
   "cell_type": "markdown",
   "metadata": {},
   "source": [
    "### Plot the growth of the epoch mean value"
   ]
  },
  {
   "cell_type": "code",
   "execution_count": null,
   "metadata": {},
   "outputs": [],
   "source": [
    "from analysis.PSTH_gen_PSTH_log import gen_PSTH_log\n",
    "from analysis.PSTH_plot_epoch_mean_growth import plot_epoch_mean_growth\n",
    "\n",
    "PSTH_log = gen_PSTH_log(hp,trial_list_all,model_dir,rule = 'odr',seltive_epoch = 'stim1')\n",
    "plot_epoch_mean_growth(hp,log, trial_list_all, model_dir, rule = 'odr', seltive_epoch = 'stim1', analy_epoch = 'stim1',PSTH_log = PSTH_log)\n",
    "plot_epoch_mean_growth(hp,log, trial_list_all, model_dir, rule = 'odr', seltive_epoch = 'stim1', analy_epoch = 'delay1',PSTH_log = PSTH_log)\n",
    "\n",
    "plot_epoch_mean_growth(hp,log, trial_list_all, model_dir, rule = 'odr', seltive_epoch = 'delay1', analy_epoch = 'delay1',)\n",
    "\n",
    "PSTH_log = gen_PSTH_log(hp,trial_list_all,model_dir,rule = 'odrd',seltive_epoch = 'stim1')\n",
    "plot_epoch_mean_growth(hp,log, trial_list_all, model_dir, rule = 'odrd', seltive_epoch = 'stim1', analy_epoch = 'stim1',PSTH_log = PSTH_log)\n",
    "plot_epoch_mean_growth(hp,log, trial_list_all, model_dir, rule = 'odrd', seltive_epoch = 'stim1', analy_epoch = 'delay2',PSTH_log = PSTH_log)"
   ]
  },
  {
   "cell_type": "markdown",
   "metadata": {},
   "source": [
    "### Plot sample neurons"
   ]
  },
  {
   "cell_type": "code",
   "execution_count": null,
   "metadata": {},
   "outputs": [],
   "source": [
    "from analysis.PSTH_sample_neuron_by_trial import sample_neuron_by_trial\n",
    "sample_neuron_by_trial(hp,log,model_dir,'odr','stim1',[616960,628480],'mix_neurons')\n",
    "sample_neuron_by_trial(hp,log,model_dir,'odr','delay1',[616960,628480],'mix_neurons')\n",
    "sample_neuron_by_trial(hp,log,model_dir,'odrd','stim1',[616960,628480],'mix_neurons')\n",
    "sample_neuron_by_trial(hp,log,model_dir,'odrd','delay2',[616960,628480],'mix_neurons')\n",
    "\n",
    "sample_neuron_by_trial(hp,log,model_dir,'odr','stim1',[616960,628480],'exh_neurons')\n",
    "sample_neuron_by_trial(hp,log,model_dir,'odr','delay1',[616960,628480],'exh_neurons')\n",
    "sample_neuron_by_trial(hp,log,model_dir,'odrd','stim1',[616960,628480],'exh_neurons')\n",
    "sample_neuron_by_trial(hp,log,model_dir,'odrd','delay2',[616960,628480],'exh_neurons')"
   ]
  },
  {
   "cell_type": "markdown",
   "metadata": {},
   "source": [
    "### Decoder\n",
    "#### ODR"
   ]
  },
  {
   "cell_type": "code",
   "execution_count": null,
   "metadata": {},
   "outputs": [],
   "source": [
    "from analysis.PSTH_Decoder_analysis import Decoder_analysis\n",
    "Decoder_analysis(hp,model_dir,trial_num = log['trials'][-1],window_size=10,test_num=2)\n",
    "Decoder_analysis(hp,model_dir,trial_num = log['trials'][452],window_size=10,test_num=2)#0.541015625\n",
    "Decoder_analysis(hp,model_dir,trial_num = log['trials'][420],window_size=10,test_num=2)#0.3359375"
   ]
  },
  {
   "cell_type": "markdown",
   "metadata": {},
   "source": [
    "#### ODRD"
   ]
  },
  {
   "cell_type": "code",
   "execution_count": null,
   "metadata": {},
   "outputs": [],
   "source": [
    "from analysis.PSTH_Decoder_analysis import Decoder_analysis\n",
    "Decoder_analysis(hp,model_dir,trial_num = log['trials'][-1],window_size=10,test_num=2,rule='odrd',)#0.95898\n",
    "Decoder_analysis(hp,model_dir,trial_num = log['trials'][468],window_size=10,test_num=2,rule='odrd',)#0.54102\n",
    "Decoder_analysis(hp,model_dir,trial_num = log['trials'][441],window_size=10,test_num=2,rule='odrd',)#0.35352"
   ]
  },
  {
   "cell_type": "markdown",
   "metadata": {},
   "source": [
    "### Demixed PCA\n",
    "#### ODR"
   ]
  },
  {
   "cell_type": "code",
   "execution_count": null,
   "metadata": {},
   "outputs": [],
   "source": [
    "from analysis.PSTH_neuron_dPCA import neuron_dPCA\n",
    "neuron_dPCA(hp,log,model_dir,trial_num = log['trials'][-1],rule='odr',task_mode='test',invert_tcomp_y=True,)\n",
    "neuron_dPCA(hp,log,model_dir,trial_num = log['trials'][452],rule='odr',task_mode='test',invert_tcomp_y=True,)\n",
    "neuron_dPCA(hp,log,model_dir,trial_num = log['trials'][420],rule='odr',task_mode='test',invert_tcomp_y=True,)"
   ]
  },
  {
   "cell_type": "markdown",
   "metadata": {},
   "source": [
    "#### ODRD"
   ]
  },
  {
   "cell_type": "code",
   "execution_count": null,
   "metadata": {},
   "outputs": [],
   "source": [
    "from analysis.PSTH_neuron_dPCA import neuron_dPCA\n",
    "neuron_dPCA(hp,log,model_dir,trial_num = log['trials'][-1],rule='odrd',task_mode='test',appoint_loc_analysis=True, appoint_locs=[1,5],\\\n",
    "            invert_tcomp_y=True,invert_stcomp_y=True,tcomp_ylim=(-12,10),scomp_ylim=(-1,1),stcomp_ylim=(-15,15))\n",
    "neuron_dPCA(hp,log,model_dir,trial_num = log['trials'][468],rule='odrd',task_mode='test',appoint_loc_analysis=True, appoint_locs=[1,5],\\\n",
    "            invert_tcomp_y=True,invert_stcomp_y=True,tcomp_ylim=(-12,10),scomp_ylim=(-1,1),stcomp_ylim=(-15,15))\n",
    "neuron_dPCA(hp,log,model_dir,trial_num = log['trials'][441],rule='odrd',task_mode='test',appoint_loc_analysis=True, appoint_locs=[1,5],\\\n",
    "            invert_tcomp_y=True,invert_stcomp_y=True,tcomp_ylim=(-12,10),scomp_ylim=(-1,1),stcomp_ylim=(-15,15))"
   ]
  },
  {
   "cell_type": "markdown",
   "metadata": {},
   "source": [
    "#### Overlap"
   ]
  },
  {
   "cell_type": "code",
   "execution_count": null,
   "metadata": {},
   "outputs": [],
   "source": [
    "from analysis.PSTH_neuron_dPCA import neuron_dPCA\n",
    "neuron_dPCA(hp,log,model_dir,trial_num = log['trials'][80],rule='overlap',task_mode='test',appoint_loc_analysis=True, appoint_locs=[0,4],\\\n",
    "            invert_scomp_y=True,invert_stcomp_y=True,tcomp_ylim=(-4,8),scomp_ylim=(-1.5,1.5),stcomp_ylim=(-3,3))#1.0\n",
    "neuron_dPCA(hp,log,model_dir,trial_num = log['trials'][42],rule='overlap',task_mode='test',appoint_loc_analysis=True, appoint_locs=[1,5],\\\n",
    "            invert_scomp_y=True,invert_stcomp_y=True,tcomp_ylim=(-4,8),scomp_ylim=(-1.5,1.5),stcomp_ylim=(-3,3))#0.57422\n",
    "neuron_dPCA(hp,log,model_dir,trial_num = log['trials'][29],rule='overlap',task_mode='test',appoint_loc_analysis=True, appoint_locs=[1,5],\\\n",
    "            invert_scomp_y=True,invert_stcomp_y=True,tcomp_ylim=(-4,8),scomp_ylim=(-1.5,1.5),stcomp_ylim=(-3,3))#0.32813"
   ]
  }
 ],
 "metadata": {
  "accelerator": "GPU",
  "colab": {
   "collapsed_sections": [],
   "name": "PSTH_analysis_seperate.ipynb",
   "provenance": []
  },
  "kernelspec": {
   "display_name": "Python 3",
   "language": "python",
   "name": "python3"
  },
  "language_info": {
   "codemirror_mode": {
    "name": "ipython",
    "version": 3
   },
   "file_extension": ".py",
   "mimetype": "text/x-python",
   "name": "python",
   "nbconvert_exporter": "python",
   "pygments_lexer": "ipython3",
   "version": "3.6.5"
  }
 },
 "nbformat": 4,
 "nbformat_minor": 1
}
